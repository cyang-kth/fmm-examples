{
 "cells": [
  {
   "cell_type": "code",
   "execution_count": 1,
   "metadata": {},
   "outputs": [],
   "source": [
    "from fmm import FastMapMatch,Network,NetworkGraph,UBODTGenAlgorithm,UBODT,FastMapMatchConfig"
   ]
  },
  {
   "cell_type": "code",
   "execution_count": 2,
   "metadata": {},
   "outputs": [
    {
     "name": "stdout",
     "output_type": "stream",
     "text": [
      "Nodes 6974 edges 15021\n"
     ]
    }
   ],
   "source": [
    "network = Network(\"data/stockholm/edges.shp\",\"fid\", \"u\", \"v\")\n",
    "print \"Nodes {} edges {}\".format(network.get_node_count(),network.get_edge_count())\n",
    "graph = NetworkGraph(network)"
   ]
  },
  {
   "cell_type": "code",
   "execution_count": 3,
   "metadata": {},
   "outputs": [
    {
     "name": "stdout",
     "output_type": "stream",
     "text": [
      "Status: success\n",
      "Time takes 5.742 seconds\n",
      "\n"
     ]
    }
   ],
   "source": [
    "# Can be skipped if you already generated an ubodt file\n",
    "ubodt_gen = UBODTGenAlgorithm(network,graph)\n",
    "# The delta is defined as 3 km approximately. 0.03 degrees. \n",
    "status = ubodt_gen.generate_ubodt(\"data/stockholm/ubodt.txt\", 0.03, binary=False, use_omp=True)\n",
    "# Binary is faster for both IO and precomputation\n",
    "# status = ubodt_gen.generate_ubodt(\"stockholm/ubodt.bin\", 0.03, binary=True, use_omp=True)\n",
    "print status"
   ]
  },
  {
   "cell_type": "code",
   "execution_count": 3,
   "metadata": {},
   "outputs": [],
   "source": [
    "ubodt = UBODT.read_ubodt_csv(\"data/stockholm/ubodt.txt\")\n",
    "### Create FMM model\n",
    "fmm_model = FastMapMatch(network,graph,ubodt)"
   ]
  },
  {
   "cell_type": "code",
   "execution_count": 4,
   "metadata": {},
   "outputs": [],
   "source": [
    "from shapely.geometry import LineString,shape, mapping\n",
    "import json\n",
    "from ipyleaflet import GeoJSON\n",
    "from shapely.wkt import dumps, loads\n",
    "traj_style = {\n",
    "  'fillColor':'green',\n",
    "  'opacity':1.0,\n",
    "  'weight':10\n",
    "}\n",
    "mr_style = {\n",
    "   'fillColor':'orange',\n",
    "   'opacity':0.8,\n",
    "   'weight':10\n",
    "} \n",
    "def match_geojson_network(traj, k, radius, gps_error):\n",
    "    traj_wkt = shape(traj[\"geometry\"]).wkt\n",
    "    r_degree = radius/1.1e5\n",
    "    e_degree = gps_error/1.1e5\n",
    "    fmm_config = FastMapMatchConfig(k,r_degree,e_degree)\n",
    "    result = fmm_model.match_wkt(traj_wkt, fmm_config)\n",
    "    mr_wkt = result.mgeom.export_wkt()\n",
    "    if len(list(result.cpath))>0:\n",
    "        return GeoJSON(name=\"Matched Traj\",\n",
    "                          data=mapping(loads(mr_wkt)), \n",
    "                           style = traj_style)\n",
    "    else:\n",
    "        return None\n",
    "def traj_geojson_layer(traj):\n",
    "    return GeoJSON(name=\"Traj\",\n",
    "                      data=traj, \n",
    "                       style = mr_style)"
   ]
  },
  {
   "cell_type": "markdown",
   "metadata": {},
   "source": [
    "### Interactive draw and matching"
   ]
  },
  {
   "cell_type": "code",
   "execution_count": 9,
   "metadata": {
    "scrolled": false
   },
   "outputs": [
    {
     "data": {
      "application/vnd.jupyter.widget-view+json": {
       "model_id": "9661dc109c5a4c548ad45adeeee77b0b",
       "version_major": 2,
       "version_minor": 0
      },
      "text/plain": [
       "TWFwKGNlbnRlcj1bNTkuMzQxODg0NjQ0MDc3LCAxOC4wNjAxNjE4ODExNDg4Ml0sIGNvbnRyb2xzPShab29tQ29udHJvbChvcHRpb25zPVt1J3Bvc2l0aW9uJywgdSd6b29tX2luX3RleHQnLCDigKY=\n"
      ]
     },
     "metadata": {},
     "output_type": "display_data"
    }
   ],
   "source": [
    "from ipyleaflet import Map, basemaps, WidgetControl, DrawControl\n",
    "from ipywidgets import IntSlider, ColorPicker, jslink, FloatSlider, Button, Layout, Label\n",
    "\n",
    "# Add widget\n",
    "\n",
    "m = Map(center=(59.341884644077, 18.06016188114882), zoom=14, \n",
    "        basemap=basemaps.OpenStreetMap.Mapnik)\n",
    "\n",
    "k_slider = IntSlider(description='k:', min=4, max=32, value=20,step=4)\n",
    "k_widget_control = WidgetControl(widget=k_slider, position='topright')\n",
    "m.add_control(k_widget_control)\n",
    "\n",
    "r_slider = IntSlider(description='r (m):', min=50, max=500, value=300, step =50)\n",
    "r_widget_control = WidgetControl(widget=r_slider, position='topright')\n",
    "m.add_control(r_widget_control)\n",
    "\n",
    "e_slider = IntSlider(description='e (m):', min=50, max=200, value=140, step = 30)\n",
    "e_widget_control = WidgetControl(widget=e_slider, position='topright')\n",
    "m.add_control(e_widget_control)\n",
    "\n",
    "draw_control = DrawControl(circlemarker={}, polygon={}, edit=False,\n",
    "    remove=False)\n",
    "\n",
    "draw_control.polyline =  {\n",
    "    \"shapeOptions\": {\n",
    "        \"color\": \"#fca45d\",\n",
    "        \"weight\": 6,\n",
    "        \"opacity\": 1\n",
    "    }\n",
    "}\n",
    "\n",
    "m.add_control(draw_control)\n",
    "\n",
    "clear_map_btn = Button(\n",
    "    description='',\n",
    "    icon = 'fa-trash',\n",
    "    layout = Layout(width = '28px',padding='0px')\n",
    ")\n",
    "\n",
    "label_widget= Label(layout = Layout(width = '300px',padding='0px'))\n",
    "label_widget.value = \"Match status: {} \".format(\"  -  \") \n",
    "label_control = WidgetControl(widget=label_widget, position='topright',max_width = 200)\n",
    "m.add_control(label_control)\n",
    "\n",
    "clear_map_btn_control = WidgetControl(widget=clear_map_btn, position='topleft',max_width=32)\n",
    "m.add_control(clear_map_btn_control)\n",
    "\n",
    "### Add event listensers\n",
    "\n",
    "mr_layer = None\n",
    "traj_layer = None\n",
    "\n",
    "def clear_map():\n",
    "    global traj_layer, mr_layer\n",
    "    if (mr_layer!=None):\n",
    "        m.remove_layer(mr_layer) \n",
    "        mr_layer = None\n",
    "    if (traj_layer!=None):\n",
    "        m.remove_layer(traj_layer) \n",
    "        traj_layer = None\n",
    "    label_widget.value = \"Match status: {} \".format(\"-\")     \n",
    "\n",
    "def update_map(data):\n",
    "    global traj_layer, mr_layer\n",
    "    if data==None:\n",
    "        if traj_layer!=None:\n",
    "            m.remove_layer(traj_layer)\n",
    "            if (mr_layer!=None):\n",
    "                m.remove_layer(mr_layer)\n",
    "                mr_layer = None\n",
    "            temp_mr_layer = match_geojson_network(traj_layer.data,\n",
    "                k_slider.value,r_slider.value,e_slider.value)\n",
    "            if (temp_mr_layer!=None):\n",
    "                label_widget.value = \"Match status: {} \".format(\"True\")\n",
    "                m.add_layer(temp_mr_layer)\n",
    "                mr_layer = temp_mr_layer\n",
    "            else:\n",
    "                label_widget.value = \"Match status: {} \".format(\"False\") \n",
    "            m.add_layer(traj_layer)\n",
    "        else:\n",
    "            label_widget.value = \"Match status: {} \".format(\"-\") \n",
    "    else:\n",
    "        temp_mr_layer = match_geojson_network(data,\n",
    "            k_slider.value,r_slider.value,e_slider.value)\n",
    "        if temp_mr_layer!=None:\n",
    "            label_widget.value = \"Match status: {} \".format(\"True\") \n",
    "            if (mr_layer!=None):\n",
    "                m.remove_layer(mr_layer)\n",
    "                mr_layer = None\n",
    "            temp_traj_layer = traj_geojson_layer(data)    \n",
    "            if (traj_layer!=None):\n",
    "                m.remove_layer(traj_layer)\n",
    "                traj_layer=None\n",
    "            m.add_layer(temp_mr_layer)\n",
    "            m.add_layer(temp_traj_layer)\n",
    "            mr_layer = temp_mr_layer\n",
    "            traj_layer = temp_traj_layer\n",
    "        else:\n",
    "            label_widget.value = \"Match status: {} \".format(\"False\") \n",
    "            temp_traj_layer = traj_geojson_layer(data)    \n",
    "            if (traj_layer!=None):\n",
    "                m.remove_layer(traj_layer)\n",
    "                traj_layer = None\n",
    "            m.add_layer(temp_traj_layer)\n",
    "            traj_layer = temp_traj_layer\n",
    "\n",
    "def on_button_clicked(b):\n",
    "    clear_map()\n",
    "def on_value_change(change):\n",
    "    update_map(None)\n",
    "def handle_draw(target, action, geo_json):\n",
    "    global test_json\n",
    "    if (action==\"deleted\"):\n",
    "        m.remove_layer(mr_layer)\n",
    "        m.remove_layer(traj_layer)\n",
    "        mr_layer = None\n",
    "        traj_layer = None\n",
    "    if (action==\"created\"):\n",
    "        draw_control.clear()\n",
    "        test_json =geo_json\n",
    "        update_map(geo_json)\n",
    "        \n",
    "k_slider.observe(on_value_change, names='value')\n",
    "r_slider.observe(on_value_change, names='value')\n",
    "e_slider.observe(on_value_change, names='value')\n",
    "clear_map_btn.on_click(on_button_clicked)\n",
    "draw_control.on_draw(handle_draw)\n",
    "        \n",
    "m.layout.height= \"540px\"\n",
    "m"
   ]
  },
  {
   "cell_type": "code",
   "execution_count": 15,
   "metadata": {},
   "outputs": [
    {
     "data": {
      "text/plain": [
       "'LINESTRING (18.072906 59.336914, 18.077199 59.342341, 18.0687 59.34733, 18.058913 59.350787, 18.053677 59.351224, 18.053419 59.346586, 18.049728 59.342472, 18.046551 59.341991)'"
      ]
     },
     "execution_count": 15,
     "metadata": {},
     "output_type": "execute_result"
    }
   ],
   "source": [
    "shape(traj_layer.data[\"geometry\"]).wkt"
   ]
  },
  {
   "cell_type": "markdown",
   "metadata": {},
   "source": [
    "### Match a GeoJSON object"
   ]
  },
  {
   "cell_type": "code",
   "execution_count": 12,
   "metadata": {},
   "outputs": [],
   "source": [
    "example_geojson = {u'geometry': {u'type': u'LineString', u'coordinates': [[18.030938, 59.343909], [18.041072, 59.335943], [18.048851, 59.341621], [18.05128, 59.346123], [18.069409, 59.341881]]}, u'type': u'Feature', u'properties': {u'style': {u'opacity': 1, u'weight': 6, u'color': u'#fca45d', u'stroke': True, u'clickable': True, u'fill': False}}}"
   ]
  },
  {
   "cell_type": "code",
   "execution_count": 13,
   "metadata": {},
   "outputs": [],
   "source": [
    "clear_map()\n",
    "update_map(example_geojson)"
   ]
  },
  {
   "cell_type": "markdown",
   "metadata": {},
   "source": [
    "Note: Visualize geojson on the map above"
   ]
  },
  {
   "cell_type": "markdown",
   "metadata": {},
   "source": [
    "### Compare traj and match result side by side"
   ]
  },
  {
   "cell_type": "code",
   "execution_count": 8,
   "metadata": {},
   "outputs": [
    {
     "data": {
      "application/vnd.jupyter.widget-view+json": {
       "model_id": "922ebb8303cc421cad8128adce459ef8",
       "version_major": 2,
       "version_minor": 0
      },
      "text/plain": [
       "SEJveChjaGlsZHJlbj0oTWFwKGNlbnRlcj1bNTkuMzMyNTgsIDE4LjA2NDldLCBjb250cm9scz0oWm9vbUNvbnRyb2wob3B0aW9ucz1bdSdwb3NpdGlvbicsIHUnem9vbV9pbl90ZXh0JywgdSfigKY=\n"
      ]
     },
     "metadata": {},
     "output_type": "display_data"
    }
   ],
   "source": [
    "from ipyleaflet import Map, basemaps, basemap_to_tiles\n",
    "from ipywidgets import Layout,HBox\n",
    "\n",
    "l = Layout(flex=\"l\",height=\"540px\")\n",
    "\n",
    "m1 = Map(center=(59.33258,18.0649), zoom=14, \n",
    "        basemap=basemaps.OpenStreetMap.Mapnik,layout=l)\n",
    "m2 = Map(center=(59.33258,18.0649), zoom=14, \n",
    "        basemap=basemaps.OpenStreetMap.Mapnik,layout=l)\n",
    "\n",
    "m1.add_layer(traj_layer)\n",
    "m2.add_layer(mr_layer)\n",
    "\n",
    "# jslink((m1, 'zoom'), (m2, 'zoom'))\n",
    "# jslink((m1, 'center'), (m2, 'center'))\n",
    "from traitlets import link\n",
    "# jslink((m1, 'trait_events'), (m2, 'trait_events'))\n",
    "\n",
    "map_center_link = link((m1, 'center'), (m2, 'center'))\n",
    "map_zoom_link = link((m1, 'zoom'), (m2, 'zoom'))\n",
    "\n",
    "# jslink((m1, 'keyboard_pan_offset'), (m2, 'keyboard_pan_offset'))\n",
    "\n",
    "HBox([m1,m2])"
   ]
  },
  {
   "cell_type": "markdown",
   "metadata": {},
   "source": [
    "### More fluent side map"
   ]
  },
  {
   "cell_type": "code",
   "execution_count": 26,
   "metadata": {
    "scrolled": false
   },
   "outputs": [
    {
     "name": "stderr",
     "output_type": "stream",
     "text": [
      "/home/cyang/anaconda2/lib/python2.7/site-packages/folium/__init__.py:59: UserWarning: This version of folium is the last to support Python 2. Transition to Python 3 to be able to receive updates and fixes. Check out https://python3statement.org/ for more info.\n",
      "  UserWarning\n"
     ]
    },
    {
     "data": {
      "text/html": [
       "<div style=\"width:100%;\"><div style=\"position:relative;width:100%;height:0;padding-bottom:60%;\"><iframe src=\"data:text/html;charset=utf-8;base64,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\" style=\"position:absolute;width:100%;height:100%;left:0;top:0;border:none !important;\" allowfullscreen webkitallowfullscreen mozallowfullscreen></iframe></div></div>"
      ],
      "text/plain": [
       "<folium.plugins.dual_map.DualMap at 0x7f1b2ae24f50>"
      ]
     },
     "execution_count": 26,
     "metadata": {},
     "output_type": "execute_result"
    }
   ],
   "source": [
    "import folium\n",
    "import folium.plugins\n",
    "\n",
    "fm = folium.plugins.DualMap(location=(59.33258,18.0649), zoom_start=12)\n",
    "\n",
    "def traj_style_func(f):\n",
    "    return traj_style\n",
    "def mr_style_func(f):\n",
    "    return mr_style\n",
    "\n",
    "folium.GeoJson(\n",
    "    traj_layer.data,\n",
    "    traj_style_func,\n",
    "    name='traj'\n",
    ").add_to(fm.m1)\n",
    "\n",
    "folium.GeoJson(\n",
    "    mr_layer.data,\n",
    "    mr_style_func,\n",
    "    name='match traj'\n",
    ").add_to(fm.m2)\n",
    "fm"
   ]
  },
  {
   "cell_type": "code",
   "execution_count": null,
   "metadata": {},
   "outputs": [],
   "source": []
  }
 ],
 "metadata": {
  "kernelspec": {
   "display_name": "Python 2",
   "language": "python",
   "name": "python2"
  },
  "language_info": {
   "codemirror_mode": {
    "name": "ipython",
    "version": 2
   },
   "file_extension": ".py",
   "mimetype": "text/x-python",
   "name": "python",
   "nbconvert_exporter": "python",
   "pygments_lexer": "ipython2",
   "version": "2.7.16"
  },
  "toc": {
   "base_numbering": 1,
   "nav_menu": {},
   "number_sections": true,
   "sideBar": true,
   "skip_h1_title": false,
   "title_cell": "Table of Contents",
   "title_sidebar": "Contents",
   "toc_cell": false,
   "toc_position": {
    "height": "calc(100% - 180px)",
    "left": "10px",
    "top": "150px",
    "width": "165px"
   },
   "toc_section_display": true,
   "toc_window_display": true
  }
 },
 "nbformat": 4,
 "nbformat_minor": 2
}
