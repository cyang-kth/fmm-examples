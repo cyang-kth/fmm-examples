{
 "cells": [
  {
   "cell_type": "markdown",
   "metadata": {},
   "source": [
    "## Introduction\n",
    "\n",
    "This notebook demonstrates selecting a trajectory according to its ID \n",
    "and explore map matching results in notebook with map and diagrams. "
   ]
  },
  {
   "cell_type": "markdown",
   "metadata": {},
   "source": [
    "### Read GPS file into a dataframe"
   ]
  },
  {
   "cell_type": "code",
   "execution_count": 1,
   "metadata": {},
   "outputs": [],
   "source": [
    "traj_csv_file = \"data/stockholm/traj.csv\"\n",
    "gps_csv_file = \"data/stockholm/gps.csv\""
   ]
  },
  {
   "cell_type": "code",
   "execution_count": 2,
   "metadata": {},
   "outputs": [],
   "source": [
    "def geojson2wkt(geojson):\n",
    "    if \"geometry\" in geojson:\n",
    "        return shape(geojson[\"geometry\"]).wkt\n",
    "    return \"\"\n",
    "def traj2gps(traj_df):\n",
    "    return gps_df"
   ]
  },
  {
   "cell_type": "code",
   "execution_count": 3,
   "metadata": {},
   "outputs": [],
   "source": [
    "import pandas as pd\n",
    "import geopandas as gpd\n",
    "from shapely import wkt"
   ]
  },
  {
   "cell_type": "markdown",
   "metadata": {},
   "source": [
    "### Read GPS trajectory data into a data frame"
   ]
  },
  {
   "cell_type": "code",
   "execution_count": 4,
   "metadata": {},
   "outputs": [],
   "source": [
    "df = pd.read_csv(traj_csv_file,sep=\";\")\n",
    "df['geom'] = df['geom'].apply(wkt.loads)"
   ]
  },
  {
   "cell_type": "code",
   "execution_count": 5,
   "metadata": {},
   "outputs": [],
   "source": [
    "gdf = gpd.GeoDataFrame(df, geometry = 'geom')"
   ]
  },
  {
   "cell_type": "markdown",
   "metadata": {},
   "source": [
    "### Convert GPS trajectory dataframe into a GPS dataframe"
   ]
  },
  {
   "cell_type": "code",
   "execution_count": 28,
   "metadata": {},
   "outputs": [
    {
     "name": "stdout",
     "output_type": "stream",
     "text": [
      "1 LINESTRING (18.072906 59.336914, 18.077199 59.342341, 18.0687 59.34733, 18.058913 59.350787, 18.053677 59.351224, 18.053419 59.346586, 18.049728 59.342472, 18.046551 59.341991)\n",
      "2 LINESTRING (18.030938 59.343909, 18.041072 59.335943, 18.048851 59.341621, 18.05128 59.346123, 18.069409 59.341881)\n",
      "3 LINESTRING (18.072994 59.338227, 18.069045 59.336826, 18.062177 59.336739, 18.056683 59.341334, 18.054107 59.343742, 18.054107 59.346761, 18.050759 59.349387, 18.045523 59.350568, 18.040286 59.348993, 18.0402 59.345098)\n",
      "    id          x          y\n",
      "0    1  18.072906  59.336914\n",
      "1    1  18.077199  59.342341\n",
      "2    1  18.068700  59.347330\n",
      "3    1  18.058913  59.350787\n",
      "4    1  18.053677  59.351224\n",
      "5    1  18.053419  59.346586\n",
      "6    1  18.049728  59.342472\n",
      "7    1  18.046551  59.341991\n",
      "8    2  18.030938  59.343909\n",
      "9    2  18.041072  59.335943\n",
      "10   2  18.048851  59.341621\n",
      "11   2  18.051280  59.346123\n",
      "12   2  18.069409  59.341881\n",
      "13   3  18.072994  59.338227\n",
      "14   3  18.069045  59.336826\n",
      "15   3  18.062177  59.336739\n",
      "16   3  18.056683  59.341334\n",
      "17   3  18.054107  59.343742\n",
      "18   3  18.054107  59.346761\n",
      "19   3  18.050759  59.349387\n",
      "20   3  18.045523  59.350568\n",
      "21   3  18.040286  59.348993\n",
      "22   3  18.040200  59.345098\n"
     ]
    }
   ],
   "source": [
    "gps_data = []\n",
    "for index,row in gdf.iterrows():\n",
    "    print row.id, row.geom\n",
    "    for x,y in row.geom.coords:\n",
    "        gps_data.append((row.id,x,y))\n",
    "gps_df = pd.DataFrame(gps_data,columns=[\"id\",\"x\",\"y\"])\n",
    "gps_df.to_csv(gps_csv_file,sep=\";\",index=False)"
   ]
  },
  {
   "cell_type": "markdown",
   "metadata": {},
   "source": [
    "### Visualize the result"
   ]
  },
  {
   "cell_type": "code",
   "execution_count": 35,
   "metadata": {},
   "outputs": [
    {
     "data": {
      "text/html": [
       "<div>\n",
       "<style scoped>\n",
       "    .dataframe tbody tr th:only-of-type {\n",
       "        vertical-align: middle;\n",
       "    }\n",
       "\n",
       "    .dataframe tbody tr th {\n",
       "        vertical-align: top;\n",
       "    }\n",
       "\n",
       "    .dataframe thead th {\n",
       "        text-align: right;\n",
       "    }\n",
       "</style>\n",
       "<table border=\"1\" class=\"dataframe\">\n",
       "  <thead>\n",
       "    <tr style=\"text-align: right;\">\n",
       "      <th></th>\n",
       "      <th>id</th>\n",
       "      <th>geom</th>\n",
       "    </tr>\n",
       "  </thead>\n",
       "  <tbody>\n",
       "    <tr>\n",
       "      <th>0</th>\n",
       "      <td>1</td>\n",
       "      <td>LINESTRING (18.072906 59.336914, 18.077199 59....</td>\n",
       "    </tr>\n",
       "    <tr>\n",
       "      <th>1</th>\n",
       "      <td>2</td>\n",
       "      <td>LINESTRING (18.030938 59.343909, 18.041072 59....</td>\n",
       "    </tr>\n",
       "    <tr>\n",
       "      <th>2</th>\n",
       "      <td>3</td>\n",
       "      <td>LINESTRING (18.072994 59.338227, 18.069045 59....</td>\n",
       "    </tr>\n",
       "  </tbody>\n",
       "</table>\n",
       "</div>"
      ],
      "text/plain": [
       "   id                                               geom\n",
       "0   1  LINESTRING (18.072906 59.336914, 18.077199 59....\n",
       "1   2  LINESTRING (18.030938 59.343909, 18.041072 59....\n",
       "2   3  LINESTRING (18.072994 59.338227, 18.069045 59...."
      ]
     },
     "execution_count": 35,
     "metadata": {},
     "output_type": "execute_result"
    }
   ],
   "source": [
    "gdf.head()"
   ]
  },
  {
   "cell_type": "code",
   "execution_count": 92,
   "metadata": {},
   "outputs": [],
   "source": [
    "class TrajSelector:\n",
    "    def __init__(self, data, id_column=\"id\", geom_column=\"geom\"):\n",
    "        from ipywidgets import Dropdown,Layout\n",
    "        self.data = data\n",
    "        self.id_column = id_column\n",
    "        self.geom_column = geom_column\n",
    "        self.current_id = data.loc[0,id_column]\n",
    "        self.dropdown = Dropdown(\n",
    "            options=data[id_column].values,\n",
    "            value= self.current_id,\n",
    "            description='Traj id:',\n",
    "            layout = Layout(width=\"160px\"),\n",
    "            style = {'description_width': '30%'}\n",
    "        )   \n",
    "        self.dropdown.observe(self.__observe, names=['value'])\n",
    "        self.__callback = None\n",
    "    def get_current_traj_id(self):\n",
    "        return self.dropdown.value\n",
    "    def get_current_traj_geom(self):\n",
    "        return self.data[self.data[self.id_column]==self.dropdown.value][self.geom_column].values[0]\n",
    "    def __observe(self, change):\n",
    "        if self.__callback!=None:\n",
    "            self.__callback(self.get_current_traj_id(), self.get_current_traj_geom())\n",
    "    def register_listener(self, callback):\n",
    "        self.__callback = callback"
   ]
  },
  {
   "cell_type": "code",
   "execution_count": 93,
   "metadata": {},
   "outputs": [
    {
     "data": {
      "application/vnd.jupyter.widget-view+json": {
       "model_id": "8f6d9daea8bb4d85b9224271a0c29ee9",
       "version_major": 2,
       "version_minor": 0
      },
      "text/plain": [
       "RHJvcGRvd24oZGVzY3JpcHRpb249dSdUcmFqIGlkOicsIGxheW91dD1MYXlvdXQod2lkdGg9dScxNjBweCcpLCBvcHRpb25zPSgxLCAyLCAzKSwgc3R5bGU9RGVzY3JpcHRpb25TdHlsZShkZXPigKY=\n"
      ]
     },
     "metadata": {},
     "output_type": "display_data"
    },
    {
     "name": "stdout",
     "output_type": "stream",
     "text": [
      "(2, 'LINESTRING (18.030938 59.343909, 18.041072 59.335943, 18.048851 59.341621, 18.05128 59.346123, 18.069409 59.341881)')\n",
      "(3, 'LINESTRING (18.072994 59.338227, 18.069045 59.336826, 18.062177 59.336739, 18.056683 59.341334, 18.054107 59.343742, 18.054107 59.346761, 18.050759 59.349387, 18.045523 59.350568, 18.040286 59.348993, 18.0402 59.345098)')\n"
     ]
    }
   ],
   "source": [
    "traj_selector = TrajSelector(df)\n",
    "\n",
    "def callback_v2(tid, value):\n",
    "    print(tid, value.wkt)\n",
    "\n",
    "traj_selector.register_listener(callback_v2)\n",
    "traj_selector.dropdown"
   ]
  },
  {
   "cell_type": "code",
   "execution_count": 94,
   "metadata": {},
   "outputs": [],
   "source": [
    "class MMConfigSelector:\n",
    "    def __init__(self):\n",
    "        from ipywidgets import IntSlider, Layout\n",
    "        self.k_slider = IntSlider(description='k:', min=4, max=32, value=20,step=4, \n",
    "                     layout= Layout(width=\"160px\"), style = {'description_width': '10%'})\n",
    "        self.r_slider = IntSlider(description='r:', min=50, max=500, value=300, step =50,\n",
    "                            layout= Layout(width=\"160px\"),style = {'description_width': '10%'})\n",
    "        self.e_slider = IntSlider(description='e:', min=50, max=200, value=140, step = 30,\n",
    "                            layout= Layout(width=\"160px\"), style = {'description_width': '10%'})\n",
    "        self.k_slider.observe(self.__observe,names=['value'])\n",
    "        self.r_slider.observe(self.__observe,names=['value'])\n",
    "        self.e_slider.observe(self.__observe,names=['value'])\n",
    "        self.__callback = None\n",
    "    def get_config(self):\n",
    "        return (self.k_slider.value, self.r_slider.value, self.e_slider.value)\n",
    "    def __observe(self, change):\n",
    "        if self.__callback!=None:\n",
    "            self.__callback(self.get_config())\n",
    "    def register_listener(self, callback):\n",
    "        self.__callback = callback"
   ]
  },
  {
   "cell_type": "code",
   "execution_count": 95,
   "metadata": {},
   "outputs": [],
   "source": [
    "mm_config = MMConfigSelector()"
   ]
  },
  {
   "cell_type": "code",
   "execution_count": 96,
   "metadata": {},
   "outputs": [],
   "source": [
    "def callback(value):\n",
    "    print(value)\n",
    "mm_config.register_listener(callback)"
   ]
  },
  {
   "cell_type": "code",
   "execution_count": 97,
   "metadata": {},
   "outputs": [],
   "source": [
    "import pandas as pd"
   ]
  },
  {
   "cell_type": "code",
   "execution_count": 100,
   "metadata": {},
   "outputs": [],
   "source": [
    "ids = [1,2,3,4,5]\n",
    "a = [5,6,7,8,9]\n",
    "b = [1.1,2,3.5,4,6]\n",
    "c = [6,7,8,4,3]\n",
    "df = pd.DataFrame([],columns=[\"id\",\"a\",\"b\",\"c\"])\n",
    "df.id = ids\n",
    "df.a = a\n",
    "df.b = b\n",
    "df.c = c"
   ]
  },
  {
   "cell_type": "code",
   "execution_count": 101,
   "metadata": {},
   "outputs": [
    {
     "data": {
      "text/html": [
       "<div>\n",
       "<style scoped>\n",
       "    .dataframe tbody tr th:only-of-type {\n",
       "        vertical-align: middle;\n",
       "    }\n",
       "\n",
       "    .dataframe tbody tr th {\n",
       "        vertical-align: top;\n",
       "    }\n",
       "\n",
       "    .dataframe thead th {\n",
       "        text-align: right;\n",
       "    }\n",
       "</style>\n",
       "<table border=\"1\" class=\"dataframe\">\n",
       "  <thead>\n",
       "    <tr style=\"text-align: right;\">\n",
       "      <th></th>\n",
       "      <th>id</th>\n",
       "      <th>a</th>\n",
       "      <th>b</th>\n",
       "      <th>c</th>\n",
       "    </tr>\n",
       "  </thead>\n",
       "  <tbody>\n",
       "    <tr>\n",
       "      <th>0</th>\n",
       "      <td>1</td>\n",
       "      <td>5</td>\n",
       "      <td>1.1</td>\n",
       "      <td>6</td>\n",
       "    </tr>\n",
       "    <tr>\n",
       "      <th>1</th>\n",
       "      <td>2</td>\n",
       "      <td>6</td>\n",
       "      <td>2.0</td>\n",
       "      <td>7</td>\n",
       "    </tr>\n",
       "    <tr>\n",
       "      <th>2</th>\n",
       "      <td>3</td>\n",
       "      <td>7</td>\n",
       "      <td>3.5</td>\n",
       "      <td>8</td>\n",
       "    </tr>\n",
       "    <tr>\n",
       "      <th>3</th>\n",
       "      <td>4</td>\n",
       "      <td>8</td>\n",
       "      <td>4.0</td>\n",
       "      <td>4</td>\n",
       "    </tr>\n",
       "    <tr>\n",
       "      <th>4</th>\n",
       "      <td>5</td>\n",
       "      <td>9</td>\n",
       "      <td>6.0</td>\n",
       "      <td>3</td>\n",
       "    </tr>\n",
       "  </tbody>\n",
       "</table>\n",
       "</div>"
      ],
      "text/plain": [
       "   id  a    b  c\n",
       "0   1  5  1.1  6\n",
       "1   2  6  2.0  7\n",
       "2   3  7  3.5  8\n",
       "3   4  8  4.0  4\n",
       "4   5  9  6.0  3"
      ]
     },
     "execution_count": 101,
     "metadata": {},
     "output_type": "execute_result"
    }
   ],
   "source": [
    "df.head()"
   ]
  },
  {
   "cell_type": "code",
   "execution_count": 102,
   "metadata": {},
   "outputs": [
    {
     "data": {
      "text/plain": [
       "(5, 4)"
      ]
     },
     "execution_count": 102,
     "metadata": {},
     "output_type": "execute_result"
    }
   ],
   "source": [
    "df.shape"
   ]
  },
  {
   "cell_type": "code",
   "execution_count": null,
   "metadata": {},
   "outputs": [],
   "source": []
  },
  {
   "cell_type": "code",
   "execution_count": 104,
   "metadata": {},
   "outputs": [
    {
     "data": {
      "text/plain": [
       "array(['id', 'a', 'b', 'c'], dtype=object)"
      ]
     },
     "execution_count": 104,
     "metadata": {},
     "output_type": "execute_result"
    }
   ],
   "source": [
    "df.columns.values"
   ]
  },
  {
   "cell_type": "markdown",
   "metadata": {},
   "source": [
    "### DataFrameVisualizer"
   ]
  },
  {
   "cell_type": "code",
   "execution_count": null,
   "metadata": {},
   "outputs": [],
   "source": [
    "class DataFrameVisualizer:\n",
    "    ATTRIBUTES = [\"error\",\"length\",\"offset\",\"spdist\",\"ep\",\"tp\"]\n",
    "    DESCRIPTIONS = [\"GPS error (meter)\",\"Edge length (meter)\",\n",
    "                        \"Offset (meter)\",\"SP length (meter)\",\n",
    "                        \"Emission Proability\",\"Transit Probability\"]\n",
    "    DEFAULT_ATTRIBUTE = \"error\"\n",
    "    def __init__(self, df):\n",
    "        import numpy as np\n",
    "        from bqplot import LinearScale, Axis, Figure, ColorScale, Scatter\n",
    "        self.df = df\n",
    "        self.sc_x = LinearScale()\n",
    "        self.sc_y = LinearScale()\n",
    "        self.value_label = Label()\n",
    "        self.N = df.shape[0]\n",
    "        self.X = np.arange(N)\n",
    "        dropdown_options = []\n",
    "        for d,v in zip(DESCRIPTIONS,ATTRIBUTES):\n",
    "            dropdown_options.append((d,v))\n",
    "        self.dropdown = Dropdown(\n",
    "            options=dropdown_options,\n",
    "            value=DEFAULT_ATTRIBUTE,\n",
    "            description='Feature:',\n",
    "            layout=Layout(\n",
    "                width=\"50%\"   \n",
    "            )\n",
    "        )\n",
    "        self.selected_field = DEFAULT_ATTRIBUTE\n",
    "        self.ax_x = Axis(scale=self.sc_x, label='Point index')\n",
    "        self.ax_y = Axis(scale=self.sc_y, orientation='vertical', label='-')\n",
    "        self.fig = Figure(marks=[self.plot], axes=[self.ax_x, self.ax_y])\n",
    "        self.dropdown.observe(self.__dropdown_observe, names=['value'])\n",
    "        self.plot = Scatter(x=self.X, y=self.df[self.selected_field].values, scales={'x': self.sc_x, 'y': self.sc_y},\n",
    "            default_size=200,colors=[\"orange\"],hovered_style={             \n",
    "            \"fill\":\"white\",\n",
    "            \"stroke\":\"#9932CC\",\n",
    "            \"stroke-width\":5\n",
    "        })\n",
    "        self.__field_change_callback = None\n",
    "        self.__hover_callback = None\n",
    "        self.__unhover_point_callback = None\n",
    "        self.plot.on_hover(__hover)\n",
    "        self.plot.observe(__observe)\n",
    "        self.chart = VBox([self.value_label, self.fig])\n",
    "    def __dropdown_observe(self, change):\n",
    "        if self.__field_change_callback!=None:\n",
    "            self.__field_change_callback(get_selected_field(),\n",
    "                                         self.df[get_selected_field()].values)\n",
    "    def __hover(self, target):\n",
    "        self.hovered_id = target[\"data\"][\"index\"]\n",
    "        self.label.value = \"{.4:f}\".format(self.df[self.selected_field].values[self.hovered_id])\n",
    "        if self.__hover_callback!=None:\n",
    "            self.__hover_callback(self.hovered_id)\n",
    "    def __unhover(self, change):\n",
    "        if self.__unhover_callback!=None:            \n",
    "            self.__unhover_callback(get_selected_field(),\n",
    "                                  self.df[get_selected_field()].values,\n",
    "                                  index)        \n",
    "    def __observe(self, state):\n",
    "        if (self.plot.hovered_point==None):\n",
    "            self.label.value = \"\"\n",
    "            if (self.hover_state):\n",
    "                self.hover_state = False            \n",
    "                self.__unhover(self.)\n",
    "    def get_selected_field(self):\n",
    "        return self.dropdown.value\n",
    "    def select_field(self, field):\n",
    "        self.dropdown.value = field\n",
    "        self.plot.y = self.data[field]\n",
    "        self.selected_field = field\n",
    "    def reset_data(self,df):\n",
    "        self.df = df\n",
    "        self.__reset_data_plot()\n",
    "    def __reset_data_plot(self):\n",
    "        self.plot.x = np.arange(self.df.shape[0])\n",
    "        self.plot.y = self.df[self.selected_field].values\n",
    "    def on_field_change(self,callback):\n",
    "        self.__field_change_callback = callback\n",
    "    def on_hovered_point(self, callback):\n",
    "        self.__hover_callback = callback\n",
    "    def on_unhovered_point(self, callback):\n",
    "        self.__unhover_point_callback = callback\n",
    "    def set_hover_point(self, index):\n",
    "        \n",
    "    def get_hovered_point(self, index):\n",
    "        "
   ]
  },
  {
   "cell_type": "markdown",
   "metadata": {},
   "source": [
    "### TrajMap"
   ]
  },
  {
   "cell_type": "code",
   "execution_count": null,
   "metadata": {},
   "outputs": [],
   "source": [
    "class TrajMap:\n",
    "    def __init__(df, k_range, r_range, e_range):\n",
    "        self.map\n",
    "        self.traj_layer\n",
    "        self.mr_layer\n",
    "        self.label\n",
    "        self.hovered_feature =\n",
    "    def __observe(self):\n",
    "        \n",
    "    def __hover(self):\n",
    "        return None\n",
    "    def on_hover(self):\n",
    "        return None\n",
    "    def __unhover(self):\n",
    "        \n",
    "    def un_hover(self);\n",
    "        "
   ]
  },
  {
   "cell_type": "markdown",
   "metadata": {},
   "source": [
    "### Define the application"
   ]
  },
  {
   "cell_type": "code",
   "execution_count": null,
   "metadata": {},
   "outputs": [],
   "source": [
    "class DFMMExplorer():\n",
    "    def __init__(self, df):\n",
    "        self.map = TrajMap()\n",
    "        self.df_viewer = DataFrameViewer()\n",
    "        self.traj_selector = TrajSelector()\n",
    "        self.ui = HBox()\n",
    "    def show():\n",
    "        return self.ui\n",
    "    def set_data(self,df): "
   ]
  },
  {
   "cell_type": "code",
   "execution_count": 29,
   "metadata": {},
   "outputs": [],
   "source": [
    "from ipyleaflet import Map, basemaps, WidgetControl, DrawControl\n",
    "from ipywidgets import IntSlider, ColorPicker, jslink, FloatSlider, Button, Layout, Label, Dropdown,HBox,VBox\n",
    "\n",
    "# Add widget\n",
    "ml = Layout(flex=\"l\",height=\"540px\",width=\"50%\")\n",
    "m = Map(center=(59.341884644077, 18.06016188114882), zoom=14, \n",
    "        basemap=basemaps.OpenStreetMap.Mapnik,layout=ml)\n",
    "\n",
    "\n",
    "k_slider = IntSlider(description='k:', min=4, max=32, value=20,step=4, \n",
    "                     layout= control_layout, style = {'description_width': '10%'})\n",
    "k_widget_control = WidgetControl(widget=k_slider, position='bottomright')\n",
    "\n",
    "r_slider = IntSlider(description='r:', min=50, max=500, value=300, step =50,\n",
    "                    layout= control_layout, style = {'description_width': '10%'})\n",
    "r_widget_control = WidgetControl(widget=r_slider, position='bottomright')\n",
    "\n",
    "e_slider = IntSlider(description='e:', min=50, max=200, value=140, step = 30,\n",
    "                    layout= control_layout, style = {'description_width': '10%'})\n",
    "e_widget_control = WidgetControl(widget=e_slider, position='bottomright')\n",
    "\n",
    "m.add_control(e_widget_control)\n",
    "m.add_control(r_widget_control)\n",
    "m.add_control(k_widget_control)\n",
    "\n",
    "label_widget= Label(layout = control_layout)\n",
    "label_widget.value = \"Match status: {} \".format(\"  -  \") \n",
    "label_control = WidgetControl(widget=label_widget, position='topright',max_width = 320)\n",
    "m.add_control(label_control)\n",
    "\n",
    "### Add event listensers\n",
    "\n",
    "mr_layer = None\n",
    "traj_layer = None\n",
    "\n",
    "def clear_map():\n",
    "    global traj_layer, mr_layer\n",
    "    if (mr_layer!=None):\n",
    "        m.remove_layer(mr_layer) \n",
    "        mr_layer = None\n",
    "    if (traj_layer!=None):\n",
    "        m.remove_layer(traj_layer) \n",
    "        traj_layer = None\n",
    "    label_widget.value = \"Match status: {} \".format(\"-\")     \n",
    "\n",
    "def update_map(data):\n",
    "    global traj_layer, mr_layer\n",
    "    if data==None:\n",
    "        if traj_layer!=None:\n",
    "            m.remove_layer(traj_layer)\n",
    "            if (mr_layer!=None):\n",
    "                m.remove_layer(mr_layer)\n",
    "                mr_layer = None\n",
    "            temp_mr_layer = match_geojson_network(traj_layer.data,\n",
    "                k_slider.value,r_slider.value,e_slider.value)\n",
    "            if (temp_mr_layer!=None):\n",
    "                label_widget.value = \"Match status: {} \".format(\"True\")\n",
    "                m.add_layer(temp_mr_layer)\n",
    "                mr_layer = temp_mr_layer\n",
    "            else:\n",
    "                label_widget.value = \"Match status: {} \".format(\"False\") \n",
    "            m.add_layer(traj_layer)\n",
    "        else:\n",
    "            label_widget.value = \"Match status: {} \".format(\"-\") \n",
    "    else:\n",
    "        temp_mr_layer = match_geojson_network(data,\n",
    "            k_slider.value,r_slider.value,e_slider.value)\n",
    "        if temp_mr_layer!=None:\n",
    "            label_widget.value = \"Match status: {} \".format(\"True\") \n",
    "            if (mr_layer!=None):\n",
    "                m.remove_layer(mr_layer)\n",
    "                mr_layer = None\n",
    "            temp_traj_layer = traj_geojson_layer(data)    \n",
    "            if (traj_layer!=None):\n",
    "                m.remove_layer(traj_layer)\n",
    "                traj_layer=None\n",
    "            m.add_layer(temp_mr_layer)\n",
    "            m.add_layer(temp_traj_layer)\n",
    "            mr_layer = temp_mr_layer\n",
    "            traj_layer = temp_traj_layer\n",
    "        else:\n",
    "            label_widget.value = \"Match status: {} \".format(\"False\") \n",
    "            temp_traj_layer = traj_geojson_layer(data)    \n",
    "            if (traj_layer!=None):\n",
    "                m.remove_layer(traj_layer)\n",
    "                traj_layer = None\n",
    "            m.add_layer(temp_traj_layer)\n",
    "            traj_layer = temp_traj_layer\n",
    "\n",
    "def on_value_change(change):\n",
    "    update_map(None)\n",
    "    \n"
   ]
  },
  {
   "cell_type": "markdown",
   "metadata": {},
   "source": [
    "### Define the details visualizer "
   ]
  },
  {
   "cell_type": "code",
   "execution_count": 30,
   "metadata": {},
   "outputs": [],
   "source": [
    "from bqplot import LinearScale, Lines, Axis, Figure, ColorScale, Scatter"
   ]
  },
  {
   "cell_type": "code",
   "execution_count": 33,
   "metadata": {},
   "outputs": [],
   "source": [
    "import numpy as np\n",
    "N = 10\n",
    "# N = details.shape[0]\n",
    "X = np.arange(N)\n",
    "sc_x = LinearScale()\n",
    "sc_y = LinearScale()\n",
    "\n",
    "attributes = [\"error\",\"length\",\"offset\",\"spdist\",\"ep\",\"tp\"]\n",
    "descriptions = [\"GPS error (meter)\",\"Edge length (meter)\",\n",
    "                \"Offset (meter)\",\"SP length (meter)\",\n",
    "                \"Emission Proability\",\"Transit Probability\"]\n",
    "default_attribute = \"error\"\n",
    "Y = np.random.rand(N)\n",
    "data_point = Scatter(x=X, y=Y, scales={'x': sc_x, 'y': sc_y},\n",
    "                     default_size=200,colors=[\"orange\"],hovered_style={             \n",
    "    \"fill\":\"white\",\n",
    "    \"stroke\":\"#9932CC\",\n",
    "    \"stroke-width\":5\n",
    "})\n",
    "# data_point = Scatter(x=X, y=details[default_attribute].values, scales={'x': sc_x, 'y': sc_y},\n",
    "#                      default_size=200,colors=[\"orange\"])\n",
    "dropdown_options = []\n",
    "for d,v in zip(descriptions,attributes):\n",
    "    dropdown_options.append((d,v))\n",
    "  \n",
    "data_dropdown = Dropdown(\n",
    "    options=dropdown_options,\n",
    "    value=default_attribute,\n",
    "    description='Feature:',\n",
    "    layout=Layout(\n",
    "         width=\"50%\"   \n",
    "    )\n",
    ")\n",
    "\n",
    "data_label = Label()\n",
    "\n",
    "ax_x = Axis(scale=sc_x, label='Point index')\n",
    "ax_y = Axis(scale=sc_y, orientation='vertical', label='-')    \n",
    "fig = Figure(marks=[data_point], axes=[ax_x, ax_y])"
   ]
  },
  {
   "cell_type": "code",
   "execution_count": 34,
   "metadata": {},
   "outputs": [
    {
     "data": {
      "application/vnd.jupyter.widget-view+json": {
       "model_id": "cbb833a2a0af43ce9971248ac98bd876",
       "version_major": 2,
       "version_minor": 0
      },
      "text/plain": [
       "SEJveChjaGlsZHJlbj0oTWFwKGNlbnRlcj1bNTkuMzQ0NjEzNDMwODYwMzIsIDE4LjA0ODY5MTc0OTU3Mjc1N10sIGNvbnRyb2xzPShab29tQ29udHJvbChvcHRpb25zPVt1J3Bvc2l0aW9uJyzigKY=\n"
      ]
     },
     "metadata": {},
     "output_type": "display_data"
    }
   ],
   "source": [
    "hl = Layout(flex=\"l\",width=\"50%\")\n",
    "HBox([m,VBox([HBox([data_dropdown,data_label]),fig],layout=hl)])"
   ]
  },
  {
   "cell_type": "code",
   "execution_count": 8,
   "metadata": {},
   "outputs": [
    {
     "name": "stdout",
     "output_type": "stream",
     "text": [
      "Aria 5\n"
     ]
    }
   ],
   "source": [
    "def callback(func):\n",
    "    return func(5)\n",
    "\n",
    "class Foo:\n",
    "    def __init__(self,name):\n",
    "        self.name = name\n",
    "    def print_name(self, arg):\n",
    "        print(self.name+\" \"+str(arg))\n",
    "\n",
    "foo = Foo(\"Aria\")\n",
    "callback(foo.print_name)"
   ]
  },
  {
   "cell_type": "code",
   "execution_count": null,
   "metadata": {},
   "outputs": [],
   "source": []
  }
 ],
 "metadata": {
  "kernelspec": {
   "display_name": "Python 2",
   "language": "python",
   "name": "python2"
  },
  "language_info": {
   "codemirror_mode": {
    "name": "ipython",
    "version": 2
   },
   "file_extension": ".py",
   "mimetype": "text/x-python",
   "name": "python",
   "nbconvert_exporter": "python",
   "pygments_lexer": "ipython2",
   "version": "2.7.16"
  },
  "toc": {
   "base_numbering": 1,
   "nav_menu": {},
   "number_sections": true,
   "sideBar": true,
   "skip_h1_title": false,
   "title_cell": "Table of Contents",
   "title_sidebar": "Contents",
   "toc_cell": false,
   "toc_position": {
    "height": "calc(100% - 180px)",
    "left": "10px",
    "top": "150px",
    "width": "165px"
   },
   "toc_section_display": true,
   "toc_window_display": true
  }
 },
 "nbformat": 4,
 "nbformat_minor": 2
}
